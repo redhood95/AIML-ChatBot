{
 "cells": [
  {
   "cell_type": "code",
   "execution_count": 1,
   "metadata": {},
   "outputs": [],
   "source": [
    "import aiml\n",
    "import sys\n",
    "import os\n",
    "from nltk.stem import WordNetLemmatizer\n",
    "import nltk"
   ]
  },
  {
   "cell_type": "code",
   "execution_count": 2,
   "metadata": {},
   "outputs": [],
   "source": [
    "os.chdir('/home/yash/Desktop/bot')"
   ]
  },
  {
   "cell_type": "code",
   "execution_count": 3,
   "metadata": {},
   "outputs": [
    {
     "name": "stdout",
     "output_type": "stream",
     "text": [
      "Loading startup.xml...done (0.00 seconds)\n",
      "Loading biography.aiml...done (0.04 seconds)\n",
      "Loading reduction2.safe.aiml...done (0.34 seconds)\n",
      "Loading loebner10.aiml...done (0.00 seconds)\n",
      "Loading reductions-update.aiml...done (0.00 seconds)\n",
      "Loading history.aiml...done (0.00 seconds)\n",
      "Loading mp4.aiml...done (0.39 seconds)\n",
      "Loading update_mccormick.aiml...done (0.01 seconds)\n",
      "Loading food.aiml...done (0.00 seconds)\n",
      "Loading money.aiml...done (0.00 seconds)\n",
      "Loading primitive-math.aiml...done (0.00 seconds)\n",
      "Loading alice.aiml...done (0.02 seconds)\n",
      "Loading personality.aiml...done (0.01 seconds)\n",
      "Loading movies.aiml...done (0.00 seconds)\n",
      "Loading pyschology.aiml...done (0.05 seconds)\n",
      "Loading emotion.aiml...done (0.01 seconds)\n",
      "Loading psychology.aiml...done (0.05 seconds)\n",
      "Loading stack.aiml...done (0.00 seconds)\n",
      "Loading mp0.aiml..."
     ]
    },
    {
     "name": "stderr",
     "output_type": "stream",
     "text": [
      "PARSE ERROR: Unexpected </category> tag (line 104, column 0)\n",
      "PARSE ERROR: Unexpected </category> tag (line 144, column 0)\n",
      "PARSE ERROR: Unexpected <category> tag (line 18, column 0)\n",
      "PARSE ERROR: Unexpected </learn> tag (line 22, column 0)\n",
      "PARSE ERROR: Unexpected </template> tag (line 35, column 0)\n",
      "PARSE ERROR: Unexpected </category> tag (line 36, column 0)\n"
     ]
    },
    {
     "name": "stdout",
     "output_type": "stream",
     "text": [
      "done (0.46 seconds)\n",
      "Loading reduction4.safe.aiml...done (0.40 seconds)\n",
      "Loading mp5.aiml...done (0.37 seconds)\n",
      "Loading badanswer.aiml...done (0.01 seconds)\n",
      "Loading inquiry.aiml...done (0.01 seconds)\n",
      "Loading reduction.names.aiml..."
     ]
    },
    {
     "name": "stderr",
     "output_type": "stream",
     "text": [
      "PARSE ERROR: Unexpected <category> tag (line 100, column 1)\n",
      "PARSE ERROR: Unexpected </learn> tag (line 108, column 0)\n",
      "PARSE ERROR: Unexpected </li> tag (line 110, column 0)\n",
      "PARSE ERROR: Unexpected </condition> tag (line 128, column 0)\n",
      "PARSE ERROR: Unexpected </template> tag (line 129, column 0)\n",
      "PARSE ERROR: Unexpected </category> tag (line 130, column 0)\n",
      "PARSE ERROR: Unexpected <category> tag (line 158, column 1)\n",
      "PARSE ERROR: Unexpected </learn> tag (line 166, column 0)\n",
      "PARSE ERROR: Unexpected </li> tag (line 168, column 0)\n",
      "PARSE ERROR: Unexpected </condition> tag (line 173, column 0)\n",
      "PARSE ERROR: Unexpected </template> tag (line 174, column 0)\n",
      "PARSE ERROR: Unexpected </category> tag (line 175, column 0)\n"
     ]
    },
    {
     "name": "stdout",
     "output_type": "stream",
     "text": [
      "done (0.47 seconds)\n",
      "Loading sports.aiml...done (0.00 seconds)\n",
      "Loading reduction0.safe.aiml...done (0.57 seconds)\n",
      "Loading iu.aiml...done (0.00 seconds)\n",
      "Loading geography.aiml...done (0.20 seconds)\n",
      "Loading that.aiml...done (0.12 seconds)\n",
      "Loading gossip.aiml...done (0.00 seconds)\n",
      "Loading computers.aiml...done (0.01 seconds)\n",
      "Loading astrology.aiml...done (0.00 seconds)\n",
      "Loading mp6.aiml...done (0.20 seconds)\n",
      "Loading ai.aiml...done (0.03 seconds)\n",
      "Loading knowledge.aiml...done (0.15 seconds)\n",
      "Loading client.aiml..."
     ]
    },
    {
     "name": "stderr",
     "output_type": "stream",
     "text": [
      "PARSE ERROR: Unexpected <category> tag (line 40, column 0)\n",
      "PARSE ERROR: Unexpected </category> tag (line 43, column 0)\n",
      "PARSE ERROR: <random> elements can only contain <li> subelements (line 443, column 495)\n"
     ]
    },
    {
     "name": "stdout",
     "output_type": "stream",
     "text": [
      "done (0.13 seconds)\n",
      "Loading religion.aiml...done (0.04 seconds)\n",
      "Loading music.aiml...done (0.00 seconds)\n",
      "Loading update1.aiml...done (0.13 seconds)\n",
      "Loading interjection.aiml...done (0.01 seconds)\n",
      "Loading date.aiml...done (0.01 seconds)\n",
      "Loading sex.aiml...done (0.02 seconds)\n",
      "Loading humor.aiml..."
     ]
    },
    {
     "name": "stderr",
     "output_type": "stream",
     "text": [
      "PARSE ERROR: <random> elements can only contain <li> subelements (line 1733, column 19)\n",
      "PARSE ERROR: <random> elements can only contain <li> subelements (line 3374, column 125)\n",
      "PARSE ERROR: Unexpected text inside <random> element (line 3383, column 0)\n"
     ]
    },
    {
     "name": "stdout",
     "output_type": "stream",
     "text": [
      "done (0.01 seconds)\n",
      "Loading science.aiml...done (0.00 seconds)\n",
      "Loading pickup.aiml...done (0.01 seconds)\n",
      "Loading primeminister.aiml...done (0.00 seconds)\n",
      "Loading wallace.aiml...done (0.06 seconds)\n",
      "Loading atomic.aiml...done (0.35 seconds)\n",
      "Loading phone.aiml...done (0.00 seconds)\n",
      "Loading drugs.aiml...done (0.00 seconds)\n",
      "Loading bot_profile.aiml...done (0.01 seconds)\n",
      "Loading mp3.aiml...done (0.37 seconds)\n",
      "Loading reduction3.safe.aiml...done (0.30 seconds)\n",
      "Loading client_profile.aiml...done (0.03 seconds)\n",
      "Loading literature.aiml...done (0.00 seconds)\n",
      "Loading reduction1.safe.aiml...done (0.47 seconds)\n",
      "Loading xfind.aiml...done (0.00 seconds)\n",
      "Loading default.aiml..."
     ]
    },
    {
     "name": "stderr",
     "output_type": "stream",
     "text": [
      "PARSE ERROR: Unexpected text inside <random> element (line 4311, column 262)\n",
      "PARSE ERROR: Unexpected text inside <random> element (line 4848, column 172)\n",
      "PARSE ERROR: Unexpected text inside <random> element (line 8844, column 351)\n"
     ]
    },
    {
     "name": "stdout",
     "output_type": "stream",
     "text": [
      "done (0.55 seconds)\n",
      "Loading politics.aiml...done (0.00 seconds)\n",
      "Loading numbers.aiml...done (0.02 seconds)\n",
      "Loading continuation.aiml...done (0.00 seconds)\n",
      "Loading stories.aiml...done (0.03 seconds)\n",
      "Loading mp2.aiml...done (0.40 seconds)\n",
      "Loading salutations.aiml...done (0.01 seconds)\n",
      "Loading bot.aiml...done (0.25 seconds)\n",
      "Loading mp1.aiml...done (0.40 seconds)\n",
      "Loading imponderables.aiml...done (0.00 seconds)\n"
     ]
    },
    {
     "data": {
      "text/plain": [
       "''"
      ]
     },
     "execution_count": 3,
     "metadata": {},
     "output_type": "execute_result"
    }
   ],
   "source": [
    "mybot = aiml.Kernel()\n",
    "#Learn startup.xml\n",
    "mybot.learn('startup.xml')\n",
    "#Calling load aiml b for loading all AIML files\n",
    "mybot.respond('load aiml b')"
   ]
  },
  {
   "cell_type": "code",
   "execution_count": 4,
   "metadata": {},
   "outputs": [],
   "source": [
    "stopwords = set(w.rstrip() for w in open('stopwords.txt'))"
   ]
  },
  {
   "cell_type": "code",
   "execution_count": 5,
   "metadata": {},
   "outputs": [],
   "source": [
    "def my_tokenizer(s):\n",
    "    s=s.lower()\n",
    "    wordnet_lemmatizer = WordNetLemmatizer()\n",
    "    tokens = nltk.tokenize.word_tokenize(s)\n",
    "    tokens=[t for t in tokens if len(t) >1]\n",
    "    tokens=[wordnet_lemmatizer.lemmatize(t) for t in tokens]\n",
    "    #tokens=[t for t in tokens if t not in stopwords]\n",
    "    return tokens"
   ]
  },
  {
   "cell_type": "code",
   "execution_count": 6,
   "metadata": {},
   "outputs": [],
   "source": [
    "text = 'my name is yash'"
   ]
  },
  {
   "cell_type": "code",
   "execution_count": 7,
   "metadata": {},
   "outputs": [],
   "source": [
    "list = my_tokenizer(text)"
   ]
  },
  {
   "cell_type": "code",
   "execution_count": 8,
   "metadata": {},
   "outputs": [
    {
     "data": {
      "text/plain": [
       "['my', 'name', 'is', 'yash']"
      ]
     },
     "execution_count": 8,
     "metadata": {},
     "output_type": "execute_result"
    }
   ],
   "source": [
    "list "
   ]
  },
  {
   "cell_type": "code",
   "execution_count": 9,
   "metadata": {},
   "outputs": [],
   "source": [
    "prediction_request_keyword = ['predict','future','power','prediction']\n",
    "past_usage_request = ['past','history','power']\n",
    "turn_on = ['start', 'on']\n",
    "turn_off = ['off','shutdown']\n",
    "appliances = ['light','fan','exhaust']\n",
    "option = ['on','off','pred','past']"
   ]
  },
  {
   "cell_type": "code",
   "execution_count": null,
   "metadata": {},
   "outputs": [],
   "source": []
  },
  {
   "cell_type": "code",
   "execution_count": 40,
   "metadata": {},
   "outputs": [],
   "source": [
    "def checker(user_in):\n",
    "    \n",
    "    fut = 0\n",
    "    past = 0\n",
    "    on = 0\n",
    "    off = 0\n",
    "    list = my_tokenizer(user_in)\n",
    "    \n",
    "    for word in list:\n",
    "        if word in prediction_request_keyword:\n",
    "             fut = fut + 1\n",
    "    \n",
    "    for word in list:\n",
    "        if word in past_usage_request:\n",
    "             past = past + 1\n",
    "                \n",
    "    for word in list:\n",
    "        if word in turn_on:\n",
    "             on = on + 1\n",
    "                \n",
    "    for word in list:\n",
    "        if word in turn_off:\n",
    "             off = off + 1\n",
    "    \n",
    "    if (fut == 0 and past ==0 and on == 0 and off ==0) :\n",
    "        return mybot.respond(user_in)\n",
    "    elif (fut > past and fut > on and fut > off):\n",
    "        return option[2],0\n",
    "    elif (past > fut and past > on and past > off) :\n",
    "        return option[3],0\n",
    "    elif (on > past and on > fut and on > off):\n",
    "        return option[0],getting_appliance(list)\n",
    "    else: \n",
    "        return option[1],getting_appliance(list)"
   ]
  },
  {
   "cell_type": "code",
   "execution_count": null,
   "metadata": {},
   "outputs": [],
   "source": []
  },
  {
   "cell_type": "code",
   "execution_count": 11,
   "metadata": {},
   "outputs": [],
   "source": [
    "def getting_appliance(list):\n",
    "    for word in list:\n",
    "        if word in appliances:\n",
    "             return word"
   ]
  },
  {
   "cell_type": "code",
   "execution_count": 12,
   "metadata": {},
   "outputs": [],
   "source": [
    "set1 = 'turn on the light'\n",
    "test = my_tokenizer(set1)"
   ]
  },
  {
   "cell_type": "code",
   "execution_count": 13,
   "metadata": {},
   "outputs": [
    {
     "data": {
      "text/plain": [
       "['turn', 'on', 'the', 'light']"
      ]
     },
     "execution_count": 13,
     "metadata": {},
     "output_type": "execute_result"
    }
   ],
   "source": [
    "test"
   ]
  },
  {
   "cell_type": "code",
   "execution_count": 65,
   "metadata": {},
   "outputs": [],
   "source": [
    "list = [114,113]\n",
    "list2 = [112]\n",
    "list3 = [115]"
   ]
  },
  {
   "cell_type": "code",
   "execution_count": 66,
   "metadata": {},
   "outputs": [],
   "source": [
    "dict = {'light':list,'fan':list2,'exhaust':list3}#114,113,112,115"
   ]
  },
  {
   "cell_type": "code",
   "execution_count": 62,
   "metadata": {},
   "outputs": [
    {
     "data": {
      "text/plain": [
       "[114, 113]"
      ]
     },
     "execution_count": 62,
     "metadata": {},
     "output_type": "execute_result"
    }
   ],
   "source": [
    "dict['light']"
   ]
  },
  {
   "cell_type": "code",
   "execution_count": 58,
   "metadata": {},
   "outputs": [
    {
     "data": {
      "text/plain": [
       "114"
      ]
     },
     "execution_count": 58,
     "metadata": {},
     "output_type": "execute_result"
    }
   ],
   "source": [
    "dict['light']"
   ]
  },
  {
   "cell_type": "code",
   "execution_count": 14,
   "metadata": {},
   "outputs": [
    {
     "data": {
      "text/plain": [
       "'light'"
      ]
     },
     "execution_count": 14,
     "metadata": {},
     "output_type": "execute_result"
    }
   ],
   "source": [
    "getting_appliance(test)"
   ]
  },
  {
   "cell_type": "code",
   "execution_count": 15,
   "metadata": {},
   "outputs": [
    {
     "name": "stdout",
     "output_type": "stream",
     "text": [
      "turn the light off\n",
      "('off', 'light')\n",
      "hey\n",
      "Far out.\n",
      "how are you?\n",
      "I am fine, thank you.\n",
      "hey\n",
      "Come on.\n",
      "what\n",
      "Didn't you understand it?\n",
      "no\n",
      "Which part are you confused about?\n",
      "all\n",
      "No exceptions?\n",
      "naah\n",
      "Do you have any kids?\n",
      "no\n",
      "Are you kidding?\n",
      "no\n",
      "You're serious?\n",
      "no\n",
      "I don't judge people.\n",
      "yes\n",
      "Take it easy.\n",
      "turn the fan on\n",
      "('on', 'fan')\n"
     ]
    },
    {
     "ename": "KeyboardInterrupt",
     "evalue": "",
     "output_type": "error",
     "traceback": [
      "\u001b[0;31m---------------------------------------------------------------------------\u001b[0m",
      "\u001b[0;31mKeyboardInterrupt\u001b[0m                         Traceback (most recent call last)",
      "\u001b[0;32m~/anaconda3/lib/python3.6/site-packages/ipykernel/kernelbase.py\u001b[0m in \u001b[0;36m_input_request\u001b[0;34m(self, prompt, ident, parent, password)\u001b[0m\n\u001b[1;32m    726\u001b[0m             \u001b[0;32mtry\u001b[0m\u001b[0;34m:\u001b[0m\u001b[0;34m\u001b[0m\u001b[0m\n\u001b[0;32m--> 727\u001b[0;31m                 \u001b[0mident\u001b[0m\u001b[0;34m,\u001b[0m \u001b[0mreply\u001b[0m \u001b[0;34m=\u001b[0m \u001b[0mself\u001b[0m\u001b[0;34m.\u001b[0m\u001b[0msession\u001b[0m\u001b[0;34m.\u001b[0m\u001b[0mrecv\u001b[0m\u001b[0;34m(\u001b[0m\u001b[0mself\u001b[0m\u001b[0;34m.\u001b[0m\u001b[0mstdin_socket\u001b[0m\u001b[0;34m,\u001b[0m \u001b[0;36m0\u001b[0m\u001b[0;34m)\u001b[0m\u001b[0;34m\u001b[0m\u001b[0m\n\u001b[0m\u001b[1;32m    728\u001b[0m             \u001b[0;32mexcept\u001b[0m \u001b[0mException\u001b[0m\u001b[0;34m:\u001b[0m\u001b[0;34m\u001b[0m\u001b[0m\n",
      "\u001b[0;32m~/anaconda3/lib/python3.6/site-packages/jupyter_client/session.py\u001b[0m in \u001b[0;36mrecv\u001b[0;34m(self, socket, mode, content, copy)\u001b[0m\n\u001b[1;32m    802\u001b[0m         \u001b[0;32mtry\u001b[0m\u001b[0;34m:\u001b[0m\u001b[0;34m\u001b[0m\u001b[0m\n\u001b[0;32m--> 803\u001b[0;31m             \u001b[0mmsg_list\u001b[0m \u001b[0;34m=\u001b[0m \u001b[0msocket\u001b[0m\u001b[0;34m.\u001b[0m\u001b[0mrecv_multipart\u001b[0m\u001b[0;34m(\u001b[0m\u001b[0mmode\u001b[0m\u001b[0;34m,\u001b[0m \u001b[0mcopy\u001b[0m\u001b[0;34m=\u001b[0m\u001b[0mcopy\u001b[0m\u001b[0;34m)\u001b[0m\u001b[0;34m\u001b[0m\u001b[0m\n\u001b[0m\u001b[1;32m    804\u001b[0m         \u001b[0;32mexcept\u001b[0m \u001b[0mzmq\u001b[0m\u001b[0;34m.\u001b[0m\u001b[0mZMQError\u001b[0m \u001b[0;32mas\u001b[0m \u001b[0me\u001b[0m\u001b[0;34m:\u001b[0m\u001b[0;34m\u001b[0m\u001b[0m\n",
      "\u001b[0;32m~/anaconda3/lib/python3.6/site-packages/zmq/sugar/socket.py\u001b[0m in \u001b[0;36mrecv_multipart\u001b[0;34m(self, flags, copy, track)\u001b[0m\n\u001b[1;32m    394\u001b[0m         \"\"\"\n\u001b[0;32m--> 395\u001b[0;31m         \u001b[0mparts\u001b[0m \u001b[0;34m=\u001b[0m \u001b[0;34m[\u001b[0m\u001b[0mself\u001b[0m\u001b[0;34m.\u001b[0m\u001b[0mrecv\u001b[0m\u001b[0;34m(\u001b[0m\u001b[0mflags\u001b[0m\u001b[0;34m,\u001b[0m \u001b[0mcopy\u001b[0m\u001b[0;34m=\u001b[0m\u001b[0mcopy\u001b[0m\u001b[0;34m,\u001b[0m \u001b[0mtrack\u001b[0m\u001b[0;34m=\u001b[0m\u001b[0mtrack\u001b[0m\u001b[0;34m)\u001b[0m\u001b[0;34m]\u001b[0m\u001b[0;34m\u001b[0m\u001b[0m\n\u001b[0m\u001b[1;32m    396\u001b[0m         \u001b[0;31m# have first part already, only loop while more to receive\u001b[0m\u001b[0;34m\u001b[0m\u001b[0;34m\u001b[0m\u001b[0m\n",
      "\u001b[0;32mzmq/backend/cython/socket.pyx\u001b[0m in \u001b[0;36mzmq.backend.cython.socket.Socket.recv\u001b[0;34m()\u001b[0m\n",
      "\u001b[0;32mzmq/backend/cython/socket.pyx\u001b[0m in \u001b[0;36mzmq.backend.cython.socket.Socket.recv\u001b[0;34m()\u001b[0m\n",
      "\u001b[0;32mzmq/backend/cython/socket.pyx\u001b[0m in \u001b[0;36mzmq.backend.cython.socket._recv_copy\u001b[0;34m()\u001b[0m\n",
      "\u001b[0;32m~/anaconda3/lib/python3.6/site-packages/zmq/backend/cython/checkrc.pxd\u001b[0m in \u001b[0;36mzmq.backend.cython.checkrc._check_rc\u001b[0;34m()\u001b[0m\n",
      "\u001b[0;31mKeyboardInterrupt\u001b[0m: ",
      "\nDuring handling of the above exception, another exception occurred:\n",
      "\u001b[0;31mKeyboardInterrupt\u001b[0m                         Traceback (most recent call last)",
      "\u001b[0;32m<ipython-input-15-a3b5a0117516>\u001b[0m in \u001b[0;36m<module>\u001b[0;34m()\u001b[0m\n\u001b[1;32m      1\u001b[0m \u001b[0;32mwhile\u001b[0m \u001b[0;32mTrue\u001b[0m\u001b[0;34m:\u001b[0m\u001b[0;34m\u001b[0m\u001b[0m\n\u001b[0;32m----> 2\u001b[0;31m     \u001b[0muser_in\u001b[0m \u001b[0;34m=\u001b[0m \u001b[0minput\u001b[0m\u001b[0;34m(\u001b[0m\u001b[0;34m)\u001b[0m\u001b[0;34m\u001b[0m\u001b[0m\n\u001b[0m\u001b[1;32m      3\u001b[0m     \u001b[0;31m#bot_response = mybot.respond(user_in)\u001b[0m\u001b[0;34m\u001b[0m\u001b[0;34m\u001b[0m\u001b[0m\n\u001b[1;32m      4\u001b[0m     \u001b[0mprint\u001b[0m\u001b[0;34m(\u001b[0m\u001b[0mchecker\u001b[0m\u001b[0;34m(\u001b[0m\u001b[0muser_in\u001b[0m\u001b[0;34m)\u001b[0m\u001b[0;34m)\u001b[0m\u001b[0;34m\u001b[0m\u001b[0m\n",
      "\u001b[0;32m~/anaconda3/lib/python3.6/site-packages/ipykernel/kernelbase.py\u001b[0m in \u001b[0;36mraw_input\u001b[0;34m(self, prompt)\u001b[0m\n\u001b[1;32m    700\u001b[0m             \u001b[0mself\u001b[0m\u001b[0;34m.\u001b[0m\u001b[0m_parent_ident\u001b[0m\u001b[0;34m,\u001b[0m\u001b[0;34m\u001b[0m\u001b[0m\n\u001b[1;32m    701\u001b[0m             \u001b[0mself\u001b[0m\u001b[0;34m.\u001b[0m\u001b[0m_parent_header\u001b[0m\u001b[0;34m,\u001b[0m\u001b[0;34m\u001b[0m\u001b[0m\n\u001b[0;32m--> 702\u001b[0;31m             \u001b[0mpassword\u001b[0m\u001b[0;34m=\u001b[0m\u001b[0;32mFalse\u001b[0m\u001b[0;34m,\u001b[0m\u001b[0;34m\u001b[0m\u001b[0m\n\u001b[0m\u001b[1;32m    703\u001b[0m         )\n\u001b[1;32m    704\u001b[0m \u001b[0;34m\u001b[0m\u001b[0m\n",
      "\u001b[0;32m~/anaconda3/lib/python3.6/site-packages/ipykernel/kernelbase.py\u001b[0m in \u001b[0;36m_input_request\u001b[0;34m(self, prompt, ident, parent, password)\u001b[0m\n\u001b[1;32m    730\u001b[0m             \u001b[0;32mexcept\u001b[0m \u001b[0mKeyboardInterrupt\u001b[0m\u001b[0;34m:\u001b[0m\u001b[0;34m\u001b[0m\u001b[0m\n\u001b[1;32m    731\u001b[0m                 \u001b[0;31m# re-raise KeyboardInterrupt, to truncate traceback\u001b[0m\u001b[0;34m\u001b[0m\u001b[0;34m\u001b[0m\u001b[0m\n\u001b[0;32m--> 732\u001b[0;31m                 \u001b[0;32mraise\u001b[0m \u001b[0mKeyboardInterrupt\u001b[0m\u001b[0;34m\u001b[0m\u001b[0m\n\u001b[0m\u001b[1;32m    733\u001b[0m             \u001b[0;32melse\u001b[0m\u001b[0;34m:\u001b[0m\u001b[0;34m\u001b[0m\u001b[0m\n\u001b[1;32m    734\u001b[0m                 \u001b[0;32mbreak\u001b[0m\u001b[0;34m\u001b[0m\u001b[0m\n",
      "\u001b[0;31mKeyboardInterrupt\u001b[0m: "
     ]
    }
   ],
   "source": [
    "while True: \n",
    "    user_in = input()\n",
    "    #bot_response = mybot.respond(user_in)\n",
    "    \n",
    "    #fut\n",
    "    #past\n",
    "    #turn on \n",
    "    #turn off\n",
    "    if type(x) is tuple:\n",
    "       \n",
    "       \n",
    "    elif type(x) is str:\n",
    "       #pass to app \n",
    "    "
   ]
  },
  {
   "cell_type": "code",
   "execution_count": 41,
   "metadata": {},
   "outputs": [],
   "source": [
    "k = checker('predict future usage')"
   ]
  },
  {
   "cell_type": "code",
   "execution_count": 42,
   "metadata": {},
   "outputs": [
    {
     "data": {
      "text/plain": [
       "tuple"
      ]
     },
     "execution_count": 42,
     "metadata": {},
     "output_type": "execute_result"
    }
   ],
   "source": [
    "type(k) "
   ]
  },
  {
   "cell_type": "code",
   "execution_count": 30,
   "metadata": {},
   "outputs": [],
   "source": [
    "k = checker('turn the light off')"
   ]
  },
  {
   "cell_type": "code",
   "execution_count": 34,
   "metadata": {},
   "outputs": [
    {
     "data": {
      "text/plain": [
       "tuple"
      ]
     },
     "execution_count": 34,
     "metadata": {},
     "output_type": "execute_result"
    }
   ],
   "source": [
    "type(k)\n"
   ]
  },
  {
   "cell_type": "code",
   "execution_count": 35,
   "metadata": {},
   "outputs": [
    {
     "ename": "SyntaxError",
     "evalue": "unexpected EOF while parsing (<ipython-input-35-f5743fec4113>, line 2)",
     "output_type": "error",
     "traceback": [
      "\u001b[0;36m  File \u001b[0;32m\"<ipython-input-35-f5743fec4113>\"\u001b[0;36m, line \u001b[0;32m2\u001b[0m\n\u001b[0;31m    if type(k\u001b[0m\n\u001b[0m             ^\u001b[0m\n\u001b[0;31mSyntaxError\u001b[0m\u001b[0;31m:\u001b[0m unexpected EOF while parsing\n"
     ]
    }
   ],
   "source": [
    "def dat_type(x):\n",
    "    \n",
    "\n",
    "    if type(x) is tuple:\n",
    "        appliance_id = dict[x[1]]\n",
    "        command = x[0]\n",
    "        if command == 'on':\n",
    "            for i in range(0,len(appliance_id)):\n",
    "        \n",
    "        elif command =='off':\n",
    "            for i in range(0,len(appliance_id)):\n",
    "\n",
    "                \n",
    "            \n",
    "    elif type(x) is str:\n",
    "        print(x)\n",
    "                \n",
    "\n",
    "\n",
    "       "
   ]
  },
  {
   "cell_type": "code",
   "execution_count": 46,
   "metadata": {},
   "outputs": [],
   "source": [
    "string = '1,2,3;2,3,4;3,4,5'"
   ]
  },
  {
   "cell_type": "code",
   "execution_count": 47,
   "metadata": {},
   "outputs": [],
   "source": [
    "str  = string.split(\";\")"
   ]
  },
  {
   "cell_type": "code",
   "execution_count": 48,
   "metadata": {},
   "outputs": [
    {
     "data": {
      "text/plain": [
       "['1,2,3', '2,3,4', '3,4,5']"
      ]
     },
     "execution_count": 48,
     "metadata": {},
     "output_type": "execute_result"
    }
   ],
   "source": [
    "str"
   ]
  },
  {
   "cell_type": "code",
   "execution_count": 49,
   "metadata": {},
   "outputs": [
    {
     "data": {
      "text/plain": [
       "list"
      ]
     },
     "execution_count": 49,
     "metadata": {},
     "output_type": "execute_result"
    }
   ],
   "source": [
    "type(str)"
   ]
  },
  {
   "cell_type": "code",
   "execution_count": 50,
   "metadata": {},
   "outputs": [
    {
     "data": {
      "text/plain": [
       "'1,2,3'"
      ]
     },
     "execution_count": 50,
     "metadata": {},
     "output_type": "execute_result"
    }
   ],
   "source": [
    "str[0]"
   ]
  },
  {
   "cell_type": "code",
   "execution_count": 53,
   "metadata": {},
   "outputs": [],
   "source": [
    "a,b,c = str[0].split(\",\")"
   ]
  },
  {
   "cell_type": "code",
   "execution_count": 55,
   "metadata": {},
   "outputs": [
    {
     "data": {
      "text/plain": [
       "str"
      ]
     },
     "execution_count": 55,
     "metadata": {},
     "output_type": "execute_result"
    }
   ],
   "source": [
    "type(a)"
   ]
  },
  {
   "cell_type": "code",
   "execution_count": null,
   "metadata": {},
   "outputs": [],
   "source": []
  }
 ],
 "metadata": {
  "kernelspec": {
   "display_name": "Python 3",
   "language": "python",
   "name": "python3"
  },
  "language_info": {
   "codemirror_mode": {
    "name": "ipython",
    "version": 3
   },
   "file_extension": ".py",
   "mimetype": "text/x-python",
   "name": "python",
   "nbconvert_exporter": "python",
   "pygments_lexer": "ipython3",
   "version": "3.6.4"
  }
 },
 "nbformat": 4,
 "nbformat_minor": 2
}
